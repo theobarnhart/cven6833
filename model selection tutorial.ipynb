{
 "cells": [
  {
   "cell_type": "code",
   "execution_count": 1,
   "metadata": {
    "collapsed": false
   },
   "outputs": [],
   "source": [
    "#Suppose you have your data in X and Y\n",
    "#Y being the vector dependent variables and X being the matrix containing the\n",
    "#independent variables.\n",
    "\n",
    "Y=scan(\"./data/regression_examples/UBN_precip.txt\")\n",
    "X=matrix(scan(\"./data/regression_examples/UBN_predictors.txt\"),ncol=7,byrow=T)"
   ]
  },
  {
   "cell_type": "code",
   "execution_count": 2,
   "metadata": {
    "collapsed": true
   },
   "outputs": [],
   "source": [
    "# Linear regression of a single independent variable X..\n",
    "\n",
    "N=length(Y)\t# of data points.."
   ]
  },
  {
   "cell_type": "code",
   "execution_count": 4,
   "metadata": {
    "collapsed": false
   },
   "outputs": [],
   "source": [
    "# to select the best subset or 'best' model, fit models with all possible\n",
    "# combinations, compute a quantity PRESS or Cp and, select the model\n",
    "# with the minimum PRESS\n",
    "\n",
    "library(MPV);\n",
    "library(leaps);"
   ]
  },
  {
   "cell_type": "code",
   "execution_count": 5,
   "metadata": {
    "collapsed": true
   },
   "outputs": [],
   "source": [
    "combs = leaps(X,Y, nbest=N);     #so that it computes all combinations..\n",
    "combos = combs$which;\n",
    "\n",
    "ncombos = length(combos[,1]);\n",
    "\n",
    "xpress=1:ncombos\n",
    "xmse = 1:ncombos\n",
    "\n",
    "for(i in 1:ncombos){\n",
    "\n",
    "zz=lm(Y ~ X[,combos[i,]]);\n",
    "\n",
    "xpress[i]=PRESS(zz); # compute PRESS\n",
    "\n",
    "xmse[i] = sum((zz$res)^2) / (N - length(zz$coef)) # compute MSE\n",
    "\n",
    "}"
   ]
  },
  {
   "cell_type": "code",
   "execution_count": 6,
   "metadata": {
    "collapsed": true
   },
   "outputs": [],
   "source": [
    "# best model based on MSE\n",
    "zc=order(xmse)[1]   #best model for PRESS\n",
    "bestmodelm = lsfit(X[,combos[zc,]], Y); # "
   ]
  },
  {
   "cell_type": "code",
   "execution_count": 7,
   "metadata": {
    "collapsed": false
   },
   "outputs": [
    {
     "data": {
      "text/html": [
       "64"
      ],
      "text/latex": [
       "64"
      ],
      "text/markdown": [
       "64"
      ],
      "text/plain": [
       "[1] 64"
      ]
     },
     "execution_count": 7,
     "metadata": {},
     "output_type": "execute_result"
    }
   ],
   "source": [
    "zc"
   ]
  },
  {
   "cell_type": "code",
   "execution_count": null,
   "metadata": {
    "collapsed": true
   },
   "outputs": [],
   "source": [
    "#best model based on PRESS\n",
    "zc=order(xpress)[1]   #best model for PRESS\n",
    "bestmodelp = lsfit(X[,combos[zc,]], Y);"
   ]
  },
  {
   "cell_type": "code",
   "execution_count": 43,
   "metadata": {
    "collapsed": false
   },
   "outputs": [
    {
     "name": "stdout",
     "output_type": "stream",
     "text": [
      "Start:  AIC=345.8\n",
      "Y ~ V1 + V2 + V3 + V4 + V5 + V6 + V7\n",
      "\n",
      "       Df Sum of Sq    RSS    AIC\n",
      "- V3    1        81 152430 343.82\n",
      "- V7    1      3622 155971 344.74\n",
      "- V2    1      4397 156746 344.94\n",
      "<none>              152349 345.80\n",
      "- V1    1     11755 164104 346.78\n",
      "- V4    1     13101 165450 347.10\n",
      "- V5    1     17865 170214 348.24\n",
      "- V6    1     50220 202569 355.20\n",
      "\n",
      "Step:  AIC=343.82\n",
      "Y ~ V1 + V2 + V4 + V5 + V6 + V7\n",
      "\n",
      "       Df Sum of Sq    RSS    AIC\n",
      "- V7    1      3591 156021 342.75\n",
      "- V2    1      4850 157280 343.08\n",
      "<none>              152430 343.82\n",
      "- V1    1     14212 166642 345.39\n",
      "- V4    1     15349 167779 345.66\n",
      "- V5    1     18041 170471 346.30\n",
      "- V6    1     58902 211333 354.89\n",
      "\n",
      "Step:  AIC=342.75\n",
      "Y ~ V1 + V2 + V4 + V5 + V6\n",
      "\n",
      "       Df Sum of Sq    RSS    AIC\n",
      "- V2    1      3786 159806 341.71\n",
      "<none>              156021 342.75\n",
      "- V4    1     13741 169762 344.13\n",
      "- V1    1     18919 174940 345.33\n",
      "- V5    1     20675 176696 345.73\n",
      "- V6    1     55550 211571 352.94\n",
      "\n",
      "Step:  AIC=341.71\n",
      "Y ~ V1 + V4 + V5 + V6\n",
      "\n",
      "       Df Sum of Sq    RSS    AIC\n",
      "<none>              159806 341.71\n",
      "- V4    1     19739 179545 344.37\n",
      "- V5    1     24255 184062 345.37\n",
      "- V1    1     52745 212551 351.12\n",
      "- V6    1     53400 213207 351.25\n"
     ]
    }
   ],
   "source": [
    "# using AIC\n",
    "X1 = as.data.frame(X);\n",
    "zm = lm(Y ~ ., data=X1);\n",
    "zms = step(zm);"
   ]
  },
  {
   "cell_type": "code",
   "execution_count": 50,
   "metadata": {
    "collapsed": false
   },
   "outputs": [
    {
     "data": {
      "text/html": [
       "64"
      ],
      "text/latex": [
       "64"
      ],
      "text/markdown": [
       "64"
      ],
      "text/plain": [
       "[1] 64"
      ]
     },
     "execution_count": 50,
     "metadata": {},
     "output_type": "execute_result"
    }
   ],
   "source": [
    "zc"
   ]
  },
  {
   "cell_type": "code",
   "execution_count": null,
   "metadata": {
    "collapsed": true
   },
   "outputs": [],
   "source": []
  }
 ],
 "metadata": {
  "kernelspec": {
   "display_name": "R",
   "language": "R",
   "name": "ir"
  },
  "language_info": {
   "codemirror_mode": "r",
   "file_extension": ".r",
   "mimetype": "text/x-r-source",
   "name": "R",
   "pygments_lexer": "r",
   "version": "3.1.2"
  }
 },
 "nbformat": 4,
 "nbformat_minor": 0
}
